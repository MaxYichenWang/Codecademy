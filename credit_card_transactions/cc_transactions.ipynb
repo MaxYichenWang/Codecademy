{
 "cells": [
  {
   "cell_type": "code",
   "execution_count": 4,
   "metadata": {},
   "outputs": [],
   "source": [
    "from matplotlib import pyplot as plt\n",
    "import numpy as np\n",
    "import pandas as pd\n",
    "import seaborn as sns"
   ]
  },
  {
   "cell_type": "code",
   "execution_count": 108,
   "metadata": {},
   "outputs": [
    {
     "name": "stdout",
     "output_type": "stream",
     "text": [
      "451742.98\n",
      "437319.17\n"
     ]
    }
   ],
   "source": [
    "df = pd.read_csv('transactions.csv')\n",
    "df['Year'] = df['Date'].str.split('/', expand = True)[2]\n",
    "df['Month'] = df['Date'].str.split('/', expand = True)[0]\n",
    "df['Day'] = df['Date'].str.split('/', expand = True)[1]\n",
    "\n",
    "account = df['Account Name'].unique()\n",
    "category = df['Category'].unique()\n",
    "\n",
    "# print(account)\n",
    "# print(category)\n",
    "\n",
    "df_2019 = df[df['Year'] == '2019' ] \n",
    "df_debit_2019 = df[(df['Transaction Type'] == 'debit') & (df['Year'] == '2019')]\n",
    "df_credit_2019 = df[( df['Transaction Type'] == 'credit') & (df['Year'] == '2019')]\n",
    "\n",
    "total_debit_2019 = df_debit_2019['Amount'].sum()\n",
    "total_creit_2019 = df_credit_2019['Amount'].sum()\n",
    "\n",
    "print(total_debit_2019)\n",
    "print(total_creit_2019)\n"
   ]
  }
 ],
 "metadata": {
  "kernelspec": {
   "display_name": "Python 3",
   "language": "python",
   "name": "python3"
  },
  "language_info": {
   "codemirror_mode": {
    "name": "ipython",
    "version": 3
   },
   "file_extension": ".py",
   "mimetype": "text/x-python",
   "name": "python",
   "nbconvert_exporter": "python",
   "pygments_lexer": "ipython3",
   "version": "3.7.4"
  }
 },
 "nbformat": 4,
 "nbformat_minor": 2
}
