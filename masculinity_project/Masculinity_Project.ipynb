{
 "cells": [
  {
   "cell_type": "markdown",
   "metadata": {},
   "source": [
    "# Investigate the Data\n",
    "\n",
    "Welcome to the cumulative project on clustering algorithms! In this project, we will be investigating the way people think about masculinity by applying the KMeans algorithm to data from  <a href=\"https://fivethirtyeight.com/\" target = \"_blank\">FiveThirtyEight</a>. FiveThirtyEight is a popular website known for their use of statistical analysis in many of their stories.\n",
    "\n",
    "To begin, take a look at `masculinity-survey.pdf`. FiveThirtyEight and WNYC studios used this survey to get their male readers' thoughts on masculinity. After looking through some of the questions asked, take a look at FiveThirtyEight's article <a href=\"https://fivethirtyeight.com/features/what-do-men-think-it-means-to-be-a-man/\" target = \"_blank\">What Do Men Think It Means To Be A Man?</a> to see their major takeaways. We're going to try to find more insights using machine learning.\n",
    "\n",
    "In the code block below, we've loaded `masculinity.csv` into a DataFrame named `survey`. This file contains the raw responses to the masculinity survey. Let's start getting a sense of how this data is structured. Try to answer these questions using your Pandas knowledge:\n",
    "* What are the names of the columns? How do those columns relate to the questions in the PDF?\n",
    "* How many rows are there?\n",
    "* How is a question with multiple parts, like question 7, represented in the DataFrame?\n",
    "* How many people said they often ask a friend for professional advice? This is the first sub-question in question 7.\n",
    "\n",
    "To answer that last question, use the `value_counts()` function. For example, `df[\"col_a\"].value_counts()` gives you a nice summary of the values found in `\"col_a\"` of the DataFrame `df`.\n",
    "\n",
    "You may also want to print `survey.head()` to get a sense of all of the columns.\n"
   ]
  },
  {
   "cell_type": "code",
   "execution_count": 64,
   "metadata": {},
   "outputs": [],
   "source": [
    "import pandas as pd\n",
    "\n",
    "\n",
    "# print(survey)\n",
    "# print(survey['q0007_0010'].value_counts())"
   ]
  },
  {
   "cell_type": "markdown",
   "metadata": {},
   "source": [
    "# Mapping the Data\n",
    "\n",
    "In order for us to start thinking about using the KMeans algorithm with this data, we need to first figure out how to turn these responses into numerical data. Let's once again consider question 7. We can't cluster the data using the phrases `\"Often\"` or `\"Rarely\"`, but we can turn those phrases into numbers. For example, we could map the data in the following way: \n",
    "* `\"Often\"` -> `4`\n",
    "* `\"Sometimes\"` ->  `3`\n",
    "* `\"Rarely\"` -> `2` \n",
    "* `\"Never, but open to it\"` -> `1`\n",
    "* `\"Never, and not open to it\"` -> `0`.\n",
    "\n",
    "Note that it's important that these responses are somewhat linear. `\"Often\"` is at one end of the spectrum with `\"Never, and not open to it\"` at the other. The other values fall in sequence between the two. You could perform a similar mapping for the `\"educ4\"` responses (question 29), but there isn't an obvious linear progression in the `\"racethn4\"` responses (question 28).\n",
    "\n",
    "In order to do this transformation, use the `map()` function. `map()` takes a dictionary as a parameter. For example, the following line of code would turn all the `\"A\"`s into `1`s and all the `\"B\"`s into `2`s in the column `\"col_one\"`.\n",
    "\n",
    "```py\n",
    "df[\"col_one\"] = df[\"col_one\"].map({\"A\": 1, \"B\": 2})\n",
    "```\n",
    "\n",
    "We've given you a list of the columns that should be mapped. Loop through the values of the list and map each column using the mapping described above.\n",
    "\n",
    "Be careful of your spelling! Punctuation and whitespace is important. Take a look at the `value_counts()` of one of these columns to see if the mapping worked.\n"
   ]
  },
  {
   "cell_type": "code",
   "execution_count": 70,
   "metadata": {},
   "outputs": [
    {
     "name": "stdout",
     "output_type": "stream",
     "text": [
      "      index  Unnamed: 0     StartDate       EndDate               q0001  \\\n",
      "0         0           1  5/10/18 4:01  5/10/18 4:06  Somewhat masculine   \n",
      "1         2           3  5/10/18 7:02  5/10/18 7:09      Very masculine   \n",
      "2         3           4  5/10/18 7:27  5/10/18 7:31      Very masculine   \n",
      "3         4           5  5/10/18 7:35  5/10/18 7:42      Very masculine   \n",
      "4         5           6  5/10/18 8:25  5/10/18 8:34      Very masculine   \n",
      "...     ...         ...           ...           ...                 ...   \n",
      "1018   1183        1184  5/19/18 7:39  5/19/18 7:46      Very masculine   \n",
      "1019   1185        1186  5/19/18 7:52  5/19/18 8:03  Somewhat masculine   \n",
      "1020   1186        1187  5/19/18 7:58  5/19/18 8:04      Very masculine   \n",
      "1021   1187        1188  5/19/18 8:52  5/19/18 8:59  Somewhat masculine   \n",
      "1022   1188        1189  5/19/18 8:56  5/19/18 9:02  Somewhat masculine   \n",
      "\n",
      "                     q0002                  q0004_0001  \\\n",
      "0       Somewhat important                Not selected   \n",
      "1        Not too important  Father or father figure(s)   \n",
      "2        Not too important  Father or father figure(s)   \n",
      "3           Very important                Not selected   \n",
      "4       Somewhat important  Father or father figure(s)   \n",
      "...                    ...                         ...   \n",
      "1018  Not at all important  Father or father figure(s)   \n",
      "1019    Somewhat important                Not selected   \n",
      "1020        Very important  Father or father figure(s)   \n",
      "1021        Very important  Father or father figure(s)   \n",
      "1022    Somewhat important  Father or father figure(s)   \n",
      "\n",
      "                      q0004_0002            q0004_0003    q0004_0004  ...  \\\n",
      "0                   Not selected          Not selected   Pop culture  ...   \n",
      "1                   Not selected          Not selected  Not selected  ...   \n",
      "2     Mother or mother figure(s)  Other family members  Not selected  ...   \n",
      "3                   Not selected  Other family members  Not selected  ...   \n",
      "4                   Not selected          Not selected  Not selected  ...   \n",
      "...                          ...                   ...           ...  ...   \n",
      "1018                Not selected          Not selected  Not selected  ...   \n",
      "1019                Not selected          Not selected  Not selected  ...   \n",
      "1020  Mother or mother figure(s)          Not selected  Not selected  ...   \n",
      "1021  Mother or mother figure(s)          Not selected   Pop culture  ...   \n",
      "1022  Mother or mother figure(s)          Not selected  Not selected  ...   \n",
      "\n",
      "                   q0035                     q0036      race2  racethn4  \\\n",
      "0        Middle Atlantic  Windows Desktop / Laptop  Non-white  Hispanic   \n",
      "1     East North Central  Windows Desktop / Laptop      White     White   \n",
      "2     East North Central  Windows Desktop / Laptop      White     White   \n",
      "3     East North Central  Windows Desktop / Laptop      White     White   \n",
      "4     East North Central  Windows Desktop / Laptop      White     White   \n",
      "...                  ...                       ...        ...       ...   \n",
      "1018     Middle Atlantic    MacOS Desktop / Laptop      White     White   \n",
      "1019         New England  Windows Desktop / Laptop      White     White   \n",
      "1020             Pacific        iOS Phone / Tablet      White     White   \n",
      "1021     Middle Atlantic        iOS Phone / Tablet  Non-white     Other   \n",
      "1022             Pacific    Android Phone / Tablet      White         W   \n",
      "\n",
      "                    educ3                 educ4       age3          kids  \\\n",
      "0         College or more       College or more    35 - 64   No children   \n",
      "1         College or more       College or more    35 - 64  Has children   \n",
      "2            Some college          Some college  65 and up  Has children   \n",
      "3         College or more       College or more    35 - 64   No children   \n",
      "4         College or more  Post graduate degree  65 and up  Has children   \n",
      "...                   ...                   ...        ...           ...   \n",
      "1018      College or more       College or more    35 - 64  Has children   \n",
      "1019  High school or less   High school or less    35 - 64  Has children   \n",
      "1020         Some college          Some college  65 and up  Has children   \n",
      "1021      College or more       College or more    18 - 34   No children   \n",
      "1022                  NaN                   NaN        NaN           NaN   \n",
      "\n",
      "       orientation    weight  \n",
      "0     Gay/Bisexual  1.714026  \n",
      "1         Straight  0.515746  \n",
      "2        No answer  0.600640  \n",
      "3         Straight  1.033400  \n",
      "4         Straight  0.059087  \n",
      "...            ...       ...  \n",
      "1018      Straight  0.706661  \n",
      "1019      Straight  2.446719  \n",
      "1020      Straight  0.615180  \n",
      "1021      Straight  2.965508  \n",
      "1022           NaN       NaN  \n",
      "\n",
      "[1023 rows x 99 columns]\n"
     ]
    }
   ],
   "source": [
    "survey = pd.read_csv(\"masculinity.csv\")\n",
    "\n",
    "cols_to_map = [\"q0007_0001\", \"q0007_0002\", \"q0007_0003\", \"q0007_0004\",\n",
    "       \"q0007_0005\", \"q0007_0006\", \"q0007_0007\", \"q0007_0008\", \"q0007_0009\",\n",
    "       \"q0007_0010\", \"q0007_0011\"]\n",
    "\n",
    "# print(survey[cols_to_map[8]].value_counts())\n",
    "\n",
    "for i in range(len(cols_to_map)):\n",
    "    survey[cols_to_map[i]] = survey[cols_to_map[i]].map({\"Often\":4,\"Sometimes\":3,\"Rarely\":2,\"Never, but open to it\":1,\"Never, and not open to it\":0})\n",
    "\n",
    "rows_to_cluster = survey.dropna(subset = cols_to_map).reset_index()\n",
    "print(rows_to_cluster)"
   ]
  },
  {
   "cell_type": "markdown",
   "metadata": {},
   "source": [
    "# Plotting the Data\n",
    "\n",
    "We now have 11 different features that we could use in our KMeans algorithm. Before we jump into clustering, let's graph some of these features on a 2D graph. Call `plt.scatter` using `survey[\"q0007_0001\"]` and `survey[\"q0007_0002\"]` as parameters. Include `alpha = 0.1`. We want to include `alpha` because many of the data points will be on top of each other. Adding `alpha` will make the points appear more solid if there are many stacked on top of each other.\n",
    "\n",
    "Include axis labels on your graph. The x-axis corresponds with the first column you gave the `scatter()` function. So in this case, it corresponds to the question about asking a friend for professional advice.\n",
    "\n",
    "Does it make sense that there are few points in the top left and bottom right corners of the graph? Why? Try graphing other dimensions against each other. Are there any combinations that give you surprising results?\n"
   ]
  },
  {
   "cell_type": "code",
   "execution_count": 53,
   "metadata": {},
   "outputs": [
    {
     "data": {
      "image/png": "[encoded data removed]",
      "text/plain": [
       "<Figure size 576x288 with 1 Axes>"
      ]
     },
     "metadata": {
      "needs_background": "light"
     },
     "output_type": "display_data"
    }
   ],
   "source": [
    "from matplotlib import pyplot as plt\n",
    "\n",
    "plt.figure(figsize=(8,4))\n",
    "plt.scatter(survey[\"q0007_0006\"], survey[\"q0007_0007\"], alpha=0.1)\n",
    "plt.xlabel('Ask a friend for professional advice')\n",
    "plt.ylabel('Ask a friend for personal advice')\n",
    "plt.show()"
   ]
  },
  {
   "cell_type": "markdown",
   "metadata": {},
   "source": [
    "# Build the KMeans Model\n",
    "\n",
    "It's now time to start clustering! There are so many interesting questions we could ask about this data. Let's start by seeing if clusters form based on traditionally masculine concepts. \n",
    "\n",
    "Take a look at the first four sub-questions in question 7. Those four activities aren't necessarily seen as traditionally masculine. On the other hand, sub-questions 5, 8, and 9 are often seen as very masculine activities. What would happen if we found 2 clusters based on those 7 questions? Would we find clusters that represent traditionally feminine and traditionally masculine people? Let's find out.\n",
    "\n",
    "We need to first drop all of the rows that contain a `NaN` value in any of the columns we're interested in. Create a new variable named `rows_to_cluster` and set it equal to the result of calling `dropna` on `survey`. `dropna` should have a parameter `subset` equal to a list of the 7 columns we want. If you don't include `subset`, the function will drop all rows that have an `NaN` in *any* column. This would drop almost all the rows in the dataframe!\n",
    "\n",
    "Create a `KMeans` object named `classifier` where `n_clusters = 2`. Call `classifier`'s `.fit()` method. The parameter of `.fit()` should be the 7 columns we're interested in. For example, the following line of code will fit the model based on the columns `\"col_one\"` and `\"col_two\"` of the Dataframe `df`. \n",
    "\n",
    "```py\n",
    "classifier.fit(df[[\"col_one\", \"col_two\"]])\n",
    "```\n",
    "\n",
    "Make sure to only include the columns that you want to train off of. Make sure to use `rows_to_cluster` rather than `survey` to avoid including those `NaN`s!\n",
    "\n",
    "\n",
    "\n",
    "After fitting your model, print out the model's `cluster_centers_`.\n"
   ]
  },
  {
   "cell_type": "code",
   "execution_count": 72,
   "metadata": {},
   "outputs": [
    {
     "name": "stdout",
     "output_type": "stream",
     "text": [
      "[[1.91145833 1.85416667 0.96614583 1.67447917 0.53385417 2.875\n",
      "  0.08333333 2.80729167 2.1796875  0.61979167 1.671875  ]\n",
      " [2.85915493 2.83881064 2.84663537 2.43974961 0.72143975 2.74804382\n",
      "  0.52738654 2.97183099 2.80594679 1.53521127 2.3943662 ]]\n"
     ]
    }
   ],
   "source": [
    "from sklearn.cluster import KMeans\n",
    "\n",
    "classifier = KMeans(n_clusters = 2)\n",
    "classifier.fit(rows_to_cluster[cols_to_map])\n",
    "print(classifier.cluster_centers_)"
   ]
  },
  {
   "cell_type": "markdown",
   "metadata": {},
   "source": [
    "# Separate the Cluster Members\n",
    "\n",
    "When we look at the two clusters, the first four numbers represent the traditionally feminine activities and the last three represent the traditionally masculine activities. If the data points separated into a feminine cluser and a masculine cluseter, we would expect to see one cluster to have high values for the first four numbers and the other cluster to have high values for the last three numbers.\n",
    "\n",
    "Instead, the first cluster has a higher value in every feature. Since a higher number means the person was more likely to \"often\" do something, the clusters seem to represent \"people who do things\" and \"people who don't do things\".\n",
    "\n",
    "We might be able to find out more information about these clusters by looking at the specific members of each cluster. Print `classifier.labels_`. This list shows which cluster every row in the DataFrame corresponds to.\n",
    "\n",
    "For example,  if `classifier.labels_` was `[1, 0 ,1]`, then the first row in the DataFrame would be in cluster one, the second row would be in cluster 0, and the third row would be in cluster one. A row represents one persons answers to every question in the survey.\n",
    "\n",
    "Create two new empty lists named `cluster_zero_indices` and `cluster_one_indices`. Loop through `classifier.labels_` and whenever a label is `0` add that index to `cluster_zero_indices`. Do the same whenever a label is a `1`.\n",
    "\n",
    "Print `cluster_zero_indices`"
   ]
  },
  {
   "cell_type": "code",
   "execution_count": 78,
   "metadata": {},
   "outputs": [],
   "source": [
    "cluster_zero_indices = []\n",
    "cluster_one_indices = []\n",
    "\n",
    "for i in range(len(classifier.labels_)):\n",
    "    if classifier.labels_[i] == 0:\n",
    "        cluster_zero_indices.append(i)\n",
    "    elif classifier.labels_[i] == 1:\n",
    "        cluster_one_indices.append(i)\n",
    "\n",
    "# print(cluster_zero_indices)\n",
    "# print(cluster_one_indices)"
   ]
  },
  {
   "cell_type": "markdown",
   "metadata": {},
   "source": [
    "# Investigate the Cluster Members\n",
    "\n",
    "Now that we have the indices for each cluster, let's look at some stats about these two clusters. You can get the rows of the DataFrame that correspond to cluster zero by doing the following:\n",
    "\n",
    "```py\n",
    "cluster_zero_df = rows_to_cluster.iloc[cluster_zero_indices]\n",
    "```\n",
    "\n",
    "Do the same for `cluster_one_df`.\n",
    "\n",
    "Finally, let's look at some information about these two clusters. Print the `value_counts()` of the `educ4` column of each cluster. What do you notice? Try looking at different columns. For example, are the people in cluster zero significantly older than those in cluster one? You can look at the `age3` column to see.\n",
    "\n",
    "If you divide the result of `value_counts()` by the size of the cluster, you get the percentage of people in each category rather than the total number. This will make it easier to compare the two clusters."
   ]
  },
  {
   "cell_type": "code",
   "execution_count": 95,
   "metadata": {
    "scrolled": true
   },
   "outputs": [
    {
     "name": "stdout",
     "output_type": "stream",
     "text": [
      "Somewhat masculine      0.486979\n",
      "Very masculine          0.385417\n",
      "Not very masculine      0.093750\n",
      "Not at all masculine    0.018229\n",
      "No answer               0.015625\n",
      "Name: q0001, dtype: float64\n",
      "Somewhat masculine      0.544601\n",
      "Very masculine          0.366197\n",
      "Not very masculine      0.073552\n",
      "Not at all masculine    0.012520\n",
      "No answer               0.003130\n",
      "Name: q0001, dtype: float64\n"
     ]
    }
   ],
   "source": [
    "cluster_zero_df = rows_to_cluster.iloc[cluster_zero_indices].reset_index()\n",
    "cluster_one_df = rows_to_cluster.iloc[cluster_one_indices].reset_index()\n",
    "\n",
    "print(cluster_zero_df['q0001'].value_counts(_, sort=True))\n",
    "print(cluster_one_df['q0001'].value_counts(_, sort=True))"
   ]
  },
  {
   "cell_type": "markdown",
   "metadata": {},
   "source": [
    "# Explore on Your Own\n",
    "\n",
    "Great work! You've found out that by answering those 7 questions people don't fall into a \"masculine\" category or a \"feminine\" category. Instead, they seem to be divided by their level of education!\n",
    "\n",
    "Now it's time for you to explore this data on your own. In this project, we've really focused on question 7 and its sub-questions. Take a look at some of the other questions in the survey and try to ask yourself some interesting questions. Here's a list of questions you could dive into:\n",
    "\n",
    "* Which demographic features have stronger correlations with ideas of masculinity (sexual orientation, age, race, marital status, parenthood?)\n",
    "* Are certain beliefs or actions linked to more self-described masculine or feminine individuals?\n",
    "* How do insecurities change as people grow older?\n",
    "\n",
    "\n",
    "Special thanks to the team at FiveThirtyEight and specifically Dhrumil Mehta for giving us access to the data!\n"
   ]
  },
  {
   "cell_type": "code",
   "execution_count": null,
   "metadata": {},
   "outputs": [],
   "source": []
  }
 ],
 "metadata": {
  "kernelspec": {
   "display_name": "Python 3",
   "language": "python",
   "name": "python3"
  },
  "language_info": {
   "codemirror_mode": {
    "name": "ipython",
    "version": 3
   },
   "file_extension": ".py",
   "mimetype": "text/x-python",
   "name": "python",
   "nbconvert_exporter": "python",
   "pygments_lexer": "ipython3",
   "version": "3.7.4"
  }
 },
 "nbformat": 4,
 "nbformat_minor": 2
}
